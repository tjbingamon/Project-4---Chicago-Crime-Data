{
 "cells": [
  {
   "cell_type": "markdown",
   "id": "64c7cccf",
   "metadata": {},
   "source": [
    "# Task\n",
    "\n",
    "### - Your task is to answer a series of questions about trends in crimes in Chicago for a reporter for the local newspaper."
   ]
  },
  {
   "cell_type": "markdown",
   "id": "95a688cf",
   "metadata": {},
   "source": [
    "# Import Libraries"
   ]
  },
  {
   "cell_type": "code",
   "execution_count": 3,
   "id": "e6805b46",
   "metadata": {},
   "outputs": [
    {
     "name": "stdout",
     "output_type": "stream",
     "text": [
      "Requirement already satisfied: holidays in /Users/tjbingamon/anaconda3/envs/dojo-env/lib/python3.9/site-packages (0.29)\r\n",
      "Requirement already satisfied: python-dateutil in /Users/tjbingamon/anaconda3/envs/dojo-env/lib/python3.9/site-packages (from holidays) (2.8.2)\r\n",
      "Requirement already satisfied: six>=1.5 in /Users/tjbingamon/anaconda3/envs/dojo-env/lib/python3.9/site-packages (from python-dateutil->holidays) (1.16.0)\r\n"
     ]
    }
   ],
   "source": [
    "import pandas as pd\n",
    "import numpy as np\n",
    "import matplotlib as mpl\n",
    "import matplotlib.pyplot as plt\n",
    "import seaborn as sns\n",
    "import os\n",
    "#import tick customization tools\n",
    "import matplotlib.ticker as mticks\n",
    "import matplotlib.dates as mdates\n",
    "\n",
    "# set random seed\n",
    "SEED = 321\n",
    "np.random.seed(SEED)\n",
    "#display more columns\n",
    "pd.set_option('display.max_columns',50)\n",
    "\n",
    "!pip install holidays\n",
    "\n",
    "import holidays\n",
    "import datetime as dt\n",
    "from holidays import country_holidays"
   ]
  },
  {
   "cell_type": "code",
   "execution_count": 4,
   "id": "2f0c5f78",
   "metadata": {},
   "outputs": [],
   "source": [
    "# Set options\n",
    "pd.set_option('display.max_columns',100)\n",
    "# Customize figure style for stakeholder-facing visualizations\n",
    "plt.style.use(('ggplot','fivethirtyeight'))\n",
    "sns.set_context('notebook', font_scale=1.2)\n",
    "plt.rcParams['figure.figsize'] = (12,4)\n",
    "plt.rcParams['savefig.transparent'] = False\n",
    "plt.rcParams['savefig.bbox'] = 'tight'"
   ]
  }
 ],
 "metadata": {
  "kernelspec": {
   "display_name": "Python (dojo-env)",
   "language": "python",
   "name": "dojo-env"
  },
  "language_info": {
   "codemirror_mode": {
    "name": "ipython",
    "version": 3
   },
   "file_extension": ".py",
   "mimetype": "text/x-python",
   "name": "python",
   "nbconvert_exporter": "python",
   "pygments_lexer": "ipython3",
   "version": "3.9.15"
  },
  "toc": {
   "base_numbering": 1,
   "nav_menu": {},
   "number_sections": false,
   "sideBar": true,
   "skip_h1_title": false,
   "title_cell": "Table of Contents",
   "title_sidebar": "Contents",
   "toc_cell": false,
   "toc_position": {},
   "toc_section_display": true,
   "toc_window_display": false
  }
 },
 "nbformat": 4,
 "nbformat_minor": 5
}
